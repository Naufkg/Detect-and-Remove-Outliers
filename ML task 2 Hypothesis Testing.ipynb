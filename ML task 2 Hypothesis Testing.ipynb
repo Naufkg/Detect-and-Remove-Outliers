{
 "cells": [
  {
   "cell_type": "code",
   "execution_count": 4,
   "id": "3a65fdc6-ddc8-4706-bfd9-34a9f0f8af98",
   "metadata": {},
   "outputs": [
    {
     "name": "stdout",
     "output_type": "stream",
     "text": [
      "Note: you may need to restart the kernel to use updated packages.Requirement already satisfied: statsmodels in c:\\users\\naufg\\appdata\\local\\programs\\python\\python311\\lib\\site-packages (0.14.1)\n",
      "Requirement already satisfied: numpy<2,>=1.18 in c:\\users\\naufg\\appdata\\local\\programs\\python\\python311\\lib\\site-packages (from statsmodels) (1.26.0)\n",
      "Requirement already satisfied: scipy!=1.9.2,>=1.4 in c:\\users\\naufg\\appdata\\local\\programs\\python\\python311\\lib\\site-packages (from statsmodels) (1.12.0)\n",
      "Requirement already satisfied: pandas!=2.1.0,>=1.0 in c:\\users\\naufg\\appdata\\local\\programs\\python\\python311\\lib\\site-packages (from statsmodels) (2.1.1)\n",
      "Requirement already satisfied: patsy>=0.5.4 in c:\\users\\naufg\\appdata\\local\\programs\\python\\python311\\lib\\site-packages (from statsmodels) (0.5.6)\n",
      "Requirement already satisfied: packaging>=21.3 in c:\\users\\naufg\\appdata\\local\\programs\\python\\python311\\lib\\site-packages (from statsmodels) (23.2)\n",
      "Requirement already satisfied: python-dateutil>=2.8.2 in c:\\users\\naufg\\appdata\\local\\programs\\python\\python311\\lib\\site-packages (from pandas!=2.1.0,>=1.0->statsmodels) (2.8.2)\n",
      "Requirement already satisfied: pytz>=2020.1 in c:\\users\\naufg\\appdata\\local\\programs\\python\\python311\\lib\\site-packages (from pandas!=2.1.0,>=1.0->statsmodels) (2023.3.post1)\n",
      "Requirement already satisfied: tzdata>=2022.1 in c:\\users\\naufg\\appdata\\local\\programs\\python\\python311\\lib\\site-packages (from pandas!=2.1.0,>=1.0->statsmodels) (2023.3)\n",
      "Requirement already satisfied: six in c:\\users\\naufg\\appdata\\local\\programs\\python\\python311\\lib\\site-packages (from patsy>=0.5.4->statsmodels) (1.16.0)\n",
      "\n"
     ]
    },
    {
     "name": "stderr",
     "output_type": "stream",
     "text": [
      "\n",
      "[notice] A new release of pip is available: 23.1.2 -> 24.0\n",
      "[notice] To update, run: python.exe -m pip install --upgrade pip\n"
     ]
    }
   ],
   "source": [
    "pip install statsmodels"
   ]
  },
  {
   "cell_type": "code",
   "execution_count": 5,
   "id": "f526b910-2b42-495a-9011-3014e1a82e4c",
   "metadata": {},
   "outputs": [
    {
     "name": "stdout",
     "output_type": "stream",
     "text": [
      "Requirement already satisfied: scipy in c:\\users\\naufg\\appdata\\local\\programs\\python\\python311\\lib\\site-packages (1.12.0)Note: you may need to restart the kernel to use updated packages.\n",
      "\n",
      "Requirement already satisfied: numpy<1.29.0,>=1.22.4 in c:\\users\\naufg\\appdata\\local\\programs\\python\\python311\\lib\\site-packages (from scipy) (1.26.0)\n"
     ]
    },
    {
     "name": "stderr",
     "output_type": "stream",
     "text": [
      "\n",
      "[notice] A new release of pip is available: 23.1.2 -> 24.0\n",
      "[notice] To update, run: python.exe -m pip install --upgrade pip\n"
     ]
    }
   ],
   "source": [
    "pip install scipy"
   ]
  },
  {
   "cell_type": "code",
   "execution_count": 6,
   "id": "f99b465c-ad7f-4632-9a77-074c9dcfa71c",
   "metadata": {},
   "outputs": [],
   "source": [
    "import numpy as np\n",
    "import pandas as pd\n",
    "from scipy.stats import norm\n"
   ]
  },
  {
   "cell_type": "markdown",
   "id": "f09c57a5-3310-47c0-b2b7-1d5679593ed9",
   "metadata": {},
   "source": [
    "# Q1\n",
    ".Suppose a child psychologist claims that the average time working mothers spend talking to their children is at least 11 minutes per day. You conduct a random sample of 1000 working mothers and find they spend an average of 11.5 minutes per day talking with their children. Assume prior research suggests the population standard deviation is 2.3 minutes.Conduct a test with a level of significance of alpha = 0.05.\r\n"
   ]
  },
  {
   "cell_type": "code",
   "execution_count": 7,
   "id": "187ee7ad-1a13-4239-bf7a-662542642cf4",
   "metadata": {},
   "outputs": [],
   "source": [
    "#since the sample size is >30 we are using z test here,\n",
    "#z_test_statistic = (sample_mean - pop_mean) / (sample_std / np.sqrt(sample_size))\n",
    "#rejection criteria is:z_statistic>critical value , fail to accept Ho"
   ]
  },
  {
   "cell_type": "code",
   "execution_count": 8,
   "id": "cda69906-7f76-4888-b931-05edcf74a6ed",
   "metadata": {},
   "outputs": [],
   "source": [
    "#Ho:pop_mean=11\n",
    "#H1:pop_mean>11\n"
   ]
  },
  {
   "cell_type": "code",
   "execution_count": 9,
   "id": "9dec2d07-2576-40dd-bade-59a3db993a11",
   "metadata": {},
   "outputs": [],
   "source": [
    "\n",
    "#Given,\n",
    "\n",
    "sample_size=1000\n",
    "sample_mean=11.5\n",
    "pop_mean=11\n",
    "pop_std=2.3 \n",
    "alpha = 0.05 "
   ]
  },
  {
   "cell_type": "code",
   "execution_count": 10,
   "id": "8cc5d17d-516a-4452-8359-dd872776b171",
   "metadata": {},
   "outputs": [
    {
     "name": "stdout",
     "output_type": "stream",
     "text": [
      "Z-statistic: 6.874516652539955\n"
     ]
    }
   ],
   "source": [
    "#calculate the z statistic\n",
    "z_test_statistic = (sample_mean - pop_mean) / (pop_std / np.sqrt(sample_size))\n",
    "print('Z-statistic:',z_test_statistic)"
   ]
  },
  {
   "cell_type": "markdown",
   "id": "a53fea24-7fc6-4e82-99a6-d0ac3cb0d30d",
   "metadata": {},
   "source": [
    "We can calculate the critical Z-value using the norm.ppf() function from scipy.stats"
   ]
  },
  {
   "cell_type": "code",
   "execution_count": 11,
   "id": "0b6dcfbf-08e5-4cb8-a24c-5e6d049de3e3",
   "metadata": {},
   "outputs": [
    {
     "name": "stdout",
     "output_type": "stream",
     "text": [
      "Critical Z-value: 1.6448536269514722\n"
     ]
    }
   ],
   "source": [
    "#calculating the critical value for one tail z-test with alpha=0.05\n",
    "critical_value = norm.ppf(1 - alpha)\n",
    "\n",
    "print(\"Critical Z-value:\", critical_value)"
   ]
  },
  {
   "cell_type": "markdown",
   "id": "e5292b8f-53ee-4447-9484-5799795269e7",
   "metadata": {},
   "source": [
    "From the above it is clear that \n",
    "Z-statistic > Critical Z-value\n",
    "therefore , we fail to accept the null hypothesis.\n",
    "#### Therefore, we have sufficient evidence to conclude that\n",
    "#### the average time working mothers spend talking to their children is significantly more than 11 minutes per day."
   ]
  },
  {
   "cell_type": "markdown",
   "id": "ade6b704-ef39-46d8-b7b0-ea5dd08cc8dc",
   "metadata": {},
   "source": [
    "# Q2.\n",
    "A coffee shop claims that their average wait time for customers is less than 5 minutes. \n",
    "To test this claim, a sample of 40 customers is taken, and their wait times are recorded. \n",
    "The sample mean wait time is found to be 4.6 minutes with a standard deviation of 0.8 minutes.\n",
    "Perform a hypothesis test at a significance level of 0.05 and determine whether there is enough evidence to support the coffee shop's claim."
   ]
  },
  {
   "cell_type": "code",
   "execution_count": 12,
   "id": "19bc07fa-b1ef-4b5b-b9ba-0793939d2133",
   "metadata": {},
   "outputs": [],
   "source": [
    "#stating the hypothesis\n",
    "#Ho:mean>=5\n",
    "#H1:mean<5\n"
   ]
  },
  {
   "cell_type": "code",
   "execution_count": 13,
   "id": "680e5478-7111-4c75-96db-030877697df1",
   "metadata": {},
   "outputs": [],
   "source": [
    "sample_mean=4.6\n",
    "population_mean=5\n",
    "sample_size=40\n",
    "sample_std=0.8\n",
    "sgnificance_level=0.05"
   ]
  },
  {
   "cell_type": "markdown",
   "id": "4577bf08-85c8-47de-a164-f9307c474832",
   "metadata": {},
   "source": [
    "Here the population_std is unknown , So we can use t test for this."
   ]
  },
  {
   "cell_type": "markdown",
   "id": "44082fbf-fb1e-4293-b26a-7ef1da936574",
   "metadata": {},
   "source": [
    "If the sample size is small (typically less than 30) and the population standard deviation is unknown, the t-test is appropriate. However, for larger sample sizes (usually greater than 30), the t-test can also be used even if the population standard deviation is unknown due to the Central Limit Theorem, which states that the distribution of sample means approaches a normal distribution as the sample size increases."
   ]
  },
  {
   "cell_type": "code",
   "execution_count": 14,
   "id": "dfafde31-3f16-45f1-ada1-d785a8f090a4",
   "metadata": {},
   "outputs": [
    {
     "name": "stdout",
     "output_type": "stream",
     "text": [
      "t_statistic: -3.162277660168382\n"
     ]
    }
   ],
   "source": [
    "t_test_statistic=(sample_mean - population_mean) / (sample_std / np.sqrt(sample_size))\n",
    "print('t_statistic:',t_test_statistic)"
   ]
  },
  {
   "cell_type": "code",
   "execution_count": 19,
   "id": "e176bdd8-79f3-44df-8fca-9844e84cf96b",
   "metadata": {},
   "outputs": [
    {
     "name": "stdout",
     "output_type": "stream",
     "text": [
      "df: 39\n"
     ]
    }
   ],
   "source": [
    "degrees_of_freedom=sample_size-1\n",
    "print('df:',degrees_of_freedom)"
   ]
  },
  {
   "cell_type": "markdown",
   "id": "58259f9d-b7b9-45ca-96f5-6896f2b8d92a",
   "metadata": {},
   "source": [
    "t.ppf(alpha, df) calculates the critical value from the t-distribution corresponding to the given significance level and degrees of freedom. The function ppf stands for \"percent point function\" and gives you the value such that a random variable from the distribution is less than or equal to that value with the given probability."
   ]
  },
  {
   "cell_type": "code",
   "execution_count": 22,
   "id": "8d107518-d819-4510-9983-b3751c995106",
   "metadata": {},
   "outputs": [
    {
     "name": "stdout",
     "output_type": "stream",
     "text": [
      "Critical value: -1.6848751194974\n"
     ]
    }
   ],
   "source": [
    "#calculating the critical value with df 39 and alpha 0.05\n",
    "from scipy.stats import t\n",
    "critical_value = t.ppf(alpha, degrees_of_freedom)\n",
    "\n",
    "print(\"Critical value:\", critical_value)"
   ]
  },
  {
   "cell_type": "markdown",
   "id": "8cf86379-1919-4038-a411-b8bf7cf3df9f",
   "metadata": {},
   "source": [
    "Since our calculated t-value (-3.16) is less than the critical t-value (-1.685), we fail to accept the null hypothesis."
   ]
  },
  {
   "cell_type": "markdown",
   "id": "8540d8a5-69ca-407c-a94b-3e8eed127ebb",
   "metadata": {},
   "source": [
    "There is enough evidence to support the claim that the average wait time for customers is less than 5 minutes at a significance level of 0.05.\n",
    "\n",
    "\n",
    "\n",
    "\n"
   ]
  },
  {
   "cell_type": "code",
   "execution_count": null,
   "id": "819342c9-0961-45c0-b367-57399b062a60",
   "metadata": {},
   "outputs": [],
   "source": []
  }
 ],
 "metadata": {
  "kernelspec": {
   "display_name": "Python 3 (ipykernel)",
   "language": "python",
   "name": "python3"
  },
  "language_info": {
   "codemirror_mode": {
    "name": "ipython",
    "version": 3
   },
   "file_extension": ".py",
   "mimetype": "text/x-python",
   "name": "python",
   "nbconvert_exporter": "python",
   "pygments_lexer": "ipython3",
   "version": "3.11.4"
  }
 },
 "nbformat": 4,
 "nbformat_minor": 5
}
